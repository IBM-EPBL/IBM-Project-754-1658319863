{
 "cells": [
  {
   "cell_type": "code",
   "execution_count": 41,
   "metadata": {},
   "outputs": [],
   "source": [
    "from tensorflow.keras.models import Sequential\n",
    "from tensorflow.keras.layers import Dense"
   ]
  },
  {
   "cell_type": "code",
   "execution_count": 42,
   "metadata": {},
   "outputs": [],
   "source": [
    "from tensorflow.keras.layers import Convolution2D\n",
    "from tensorflow.keras.layers import MaxPooling2D\n",
    "from tensorflow.keras.layers import Flatten"
   ]
  },
  {
   "cell_type": "code",
   "execution_count": 43,
   "metadata": {},
   "outputs": [],
   "source": [
    "from tensorflow.keras.preprocessing.image import ImageDataGenerator"
   ]
  },
  {
   "cell_type": "code",
   "execution_count": 44,
   "metadata": {},
   "outputs": [],
   "source": [
    "train_datagen=ImageDataGenerator(rescale=1./255,shear_range=0.2,zoom_range=0.2,horizontal_flip=True,vertical_flip=True)"
   ]
  },
  {
   "cell_type": "code",
   "execution_count": 45,
   "metadata": {},
   "outputs": [],
   "source": [
    "test_datagen=ImageDataGenerator(rescale=1./255)"
   ]
  },
  {
   "cell_type": "code",
   "execution_count": 46,
   "metadata": {},
   "outputs": [
    {
     "name": "stdout",
     "output_type": "stream",
     "text": [
      "Found 3350 images belonging to 5 classes.\n"
     ]
    }
   ],
   "source": [
    "x_train=train_datagen.flow_from_directory(r\"C:\\Users\\91949\\Desktop\\IBM\\DATA SET\\Flowers-Dataset\\train\",target_size=(64,64),batch_size=32,class_mode=\"categorical\")"
   ]
  },
  {
   "cell_type": "code",
   "execution_count": 47,
   "metadata": {},
   "outputs": [
    {
     "name": "stdout",
     "output_type": "stream",
     "text": [
      "Found 967 images belonging to 5 classes.\n"
     ]
    }
   ],
   "source": [
    "x_test=test_datagen.flow_from_directory(r\"C:\\Users\\91949\\Desktop\\IBM\\DATA SET\\Flowers-Dataset\\test\",target_size=(64,64),batch_size=32,class_mode=\"categorical\")"
   ]
  },
  {
   "cell_type": "code",
   "execution_count": 48,
   "metadata": {},
   "outputs": [
    {
     "data": {
      "text/plain": [
       "{'daisy': 0, 'dandelion': 1, 'rose': 2, 'sunflower': 3, 'tulip': 4}"
      ]
     },
     "execution_count": 48,
     "metadata": {},
     "output_type": "execute_result"
    }
   ],
   "source": [
    "x_train.class_indices"
   ]
  },
  {
   "cell_type": "code",
   "execution_count": 49,
   "metadata": {},
   "outputs": [],
   "source": [
    "model=Sequential()"
   ]
  },
  {
   "cell_type": "code",
   "execution_count": 50,
   "metadata": {},
   "outputs": [],
   "source": [
    "model.add(Convolution2D(32,(3,3),input_shape=(64,64,3),activation='relu'))"
   ]
  },
  {
   "cell_type": "code",
   "execution_count": 51,
   "metadata": {},
   "outputs": [],
   "source": [
    "model.add(MaxPooling2D(pool_size=(2,2)))"
   ]
  },
  {
   "cell_type": "code",
   "execution_count": 52,
   "metadata": {},
   "outputs": [],
   "source": [
    "model.add(Flatten())"
   ]
  },
  {
   "cell_type": "code",
   "execution_count": 53,
   "metadata": {},
   "outputs": [],
   "source": [
    "model.add(Dense(units=300,kernel_initializer=\"random_uniform\",activation=\"relu\"))"
   ]
  },
  {
   "cell_type": "code",
   "execution_count": 54,
   "metadata": {},
   "outputs": [],
   "source": [
    "model.add(Dense(units=5,kernel_initializer=\"random_uniform\",activation=\"softmax\"))"
   ]
  },
  {
   "cell_type": "code",
   "execution_count": 55,
   "metadata": {},
   "outputs": [],
   "source": [
    "model.compile(loss=\"categorical_crossentropy\",optimizer=\"adam\",metrics=[\"accuracy\"])"
   ]
  },
  {
   "cell_type": "code",
   "execution_count": 56,
   "metadata": {},
   "outputs": [
    {
     "name": "stderr",
     "output_type": "stream",
     "text": [
      "<ipython-input-56-ffe857803cc3>:1: UserWarning: `Model.fit_generator` is deprecated and will be removed in a future version. Please use `Model.fit`, which supports generators.\n",
      "  model.fit_generator(x_train,steps_per_epoch=104,epochs=25,validation_data=x_test,validation_steps=30)\n"
     ]
    },
    {
     "name": "stdout",
     "output_type": "stream",
     "text": [
      "Epoch 1/25\n",
      "104/104 [==============================] - 38s 362ms/step - loss: 1.3654 - accuracy: 0.4342 - val_loss: 1.3903 - val_accuracy: 0.4375\n",
      "Epoch 2/25\n",
      "104/104 [==============================] - 24s 230ms/step - loss: 1.0937 - accuracy: 0.5621 - val_loss: 1.3275 - val_accuracy: 0.4844\n",
      "Epoch 3/25\n",
      "104/104 [==============================] - 25s 243ms/step - loss: 1.0205 - accuracy: 0.5913 - val_loss: 1.2193 - val_accuracy: 0.5583\n",
      "Epoch 4/25\n",
      "104/104 [==============================] - 22s 215ms/step - loss: 0.9656 - accuracy: 0.6136 - val_loss: 1.1953 - val_accuracy: 0.5573\n",
      "Epoch 5/25\n",
      "104/104 [==============================] - 23s 225ms/step - loss: 0.9131 - accuracy: 0.6417 - val_loss: 1.4243 - val_accuracy: 0.4990\n",
      "Epoch 6/25\n",
      "104/104 [==============================] - 23s 224ms/step - loss: 0.8773 - accuracy: 0.6621 - val_loss: 1.4136 - val_accuracy: 0.5125\n",
      "Epoch 7/25\n",
      "104/104 [==============================] - 21s 201ms/step - loss: 0.8715 - accuracy: 0.6624 - val_loss: 1.1761 - val_accuracy: 0.5490\n",
      "Epoch 8/25\n",
      "104/104 [==============================] - 23s 224ms/step - loss: 0.8102 - accuracy: 0.6851 - val_loss: 1.4036 - val_accuracy: 0.5135\n",
      "Epoch 9/25\n",
      "104/104 [==============================] - 20s 197ms/step - loss: 0.8035 - accuracy: 0.6854 - val_loss: 1.3498 - val_accuracy: 0.5458\n",
      "Epoch 10/25\n",
      "104/104 [==============================] - 23s 218ms/step - loss: 0.7593 - accuracy: 0.7143 - val_loss: 1.3195 - val_accuracy: 0.5427\n",
      "Epoch 11/25\n",
      "104/104 [==============================] - 23s 218ms/step - loss: 0.7541 - accuracy: 0.7031 - val_loss: 1.3597 - val_accuracy: 0.5604\n",
      "Epoch 12/25\n",
      "104/104 [==============================] - 23s 218ms/step - loss: 0.7217 - accuracy: 0.7315 - val_loss: 1.1833 - val_accuracy: 0.5792\n",
      "Epoch 13/25\n",
      "104/104 [==============================] - 23s 219ms/step - loss: 0.7122 - accuracy: 0.7303 - val_loss: 1.2649 - val_accuracy: 0.5792\n",
      "Epoch 14/25\n",
      "104/104 [==============================] - 23s 223ms/step - loss: 0.6911 - accuracy: 0.7396 - val_loss: 1.3181 - val_accuracy: 0.5562\n",
      "Epoch 15/25\n",
      "104/104 [==============================] - 22s 214ms/step - loss: 0.6679 - accuracy: 0.7471 - val_loss: 1.3376 - val_accuracy: 0.5667\n",
      "Epoch 16/25\n",
      "104/104 [==============================] - 23s 218ms/step - loss: 0.6444 - accuracy: 0.7592 - val_loss: 1.2926 - val_accuracy: 0.5583\n",
      "Epoch 17/25\n",
      "104/104 [==============================] - 23s 218ms/step - loss: 0.6162 - accuracy: 0.7592 - val_loss: 1.3205 - val_accuracy: 0.5781\n",
      "Epoch 18/25\n",
      "104/104 [==============================] - 23s 219ms/step - loss: 0.6004 - accuracy: 0.7833 - val_loss: 1.2548 - val_accuracy: 0.5885\n",
      "Epoch 19/25\n",
      "104/104 [==============================] - 25s 244ms/step - loss: 0.5928 - accuracy: 0.7779 - val_loss: 1.1861 - val_accuracy: 0.5969\n",
      "Epoch 20/25\n",
      "104/104 [==============================] - 21s 205ms/step - loss: 0.5972 - accuracy: 0.7779 - val_loss: 1.3367 - val_accuracy: 0.5594\n",
      "Epoch 21/25\n",
      "104/104 [==============================] - 22s 212ms/step - loss: 0.5505 - accuracy: 0.7963 - val_loss: 1.2604 - val_accuracy: 0.5969\n",
      "Epoch 22/25\n",
      "104/104 [==============================] - 21s 198ms/step - loss: 0.5323 - accuracy: 0.7978 - val_loss: 1.2809 - val_accuracy: 0.6000\n",
      "Epoch 23/25\n",
      "104/104 [==============================] - 21s 197ms/step - loss: 0.5196 - accuracy: 0.8047 - val_loss: 1.4947 - val_accuracy: 0.5542\n",
      "Epoch 24/25\n",
      "104/104 [==============================] - 21s 200ms/step - loss: 0.5121 - accuracy: 0.8068 - val_loss: 1.2910 - val_accuracy: 0.6000\n",
      "Epoch 25/25\n",
      "104/104 [==============================] - 22s 210ms/step - loss: 0.4888 - accuracy: 0.8134 - val_loss: 1.3428 - val_accuracy: 0.5917\n"
     ]
    },
    {
     "data": {
      "text/plain": [
       "<keras.callbacks.History at 0x27080294a90>"
      ]
     },
     "execution_count": 56,
     "metadata": {},
     "output_type": "execute_result"
    }
   ],
   "source": [
    "model.fit_generator(x_train,steps_per_epoch=104,epochs=25,validation_data=x_test,validation_steps=30)"
   ]
  },
  {
   "cell_type": "code",
   "execution_count": 57,
   "metadata": {},
   "outputs": [],
   "source": [
    "from tensorflow.keras.models import load_model"
   ]
  },
  {
   "cell_type": "code",
   "execution_count": 58,
   "metadata": {},
   "outputs": [],
   "source": [
    "model.save(\"flowers.h5\")"
   ]
  },
  {
   "cell_type": "code",
   "execution_count": 59,
   "metadata": {},
   "outputs": [],
   "source": [
    "from tensorflow.keras.preprocessing import image "
   ]
  },
  {
   "cell_type": "code",
   "execution_count": 60,
   "metadata": {},
   "outputs": [],
   "source": [
    "import numpy as np"
   ]
  },
  {
   "cell_type": "code",
   "execution_count": 61,
   "metadata": {},
   "outputs": [],
   "source": [
    "model=load_model(\"flowers.h5\")"
   ]
  },
  {
   "cell_type": "code",
   "execution_count": 63,
   "metadata": {},
   "outputs": [],
   "source": [
    "img=image.load_img(\"sunflower.jpg\",target_size=(64,64))"
   ]
  },
  {
   "cell_type": "code",
   "execution_count": 64,
   "metadata": {},
   "outputs": [
    {
     "data": {
      "image/png": "[encoded data removed]",
      "text/plain": [
       "<PIL.Image.Image image mode=RGB size=64x64 at 0x270802E37F0>"
      ]
     },
     "execution_count": 64,
     "metadata": {},
     "output_type": "execute_result"
    }
   ],
   "source": [
    "img"
   ]
  },
  {
   "cell_type": "code",
   "execution_count": 65,
   "metadata": {},
   "outputs": [],
   "source": [
    "x=image.img_to_array(img)"
   ]
  },
  {
   "cell_type": "code",
   "execution_count": 66,
   "metadata": {},
   "outputs": [],
   "source": [
    "x=np.expand_dims(x,axis=0)"
   ]
  },
  {
   "cell_type": "code",
   "execution_count": 67,
   "metadata": {},
   "outputs": [
    {
     "name": "stdout",
     "output_type": "stream",
     "text": [
      "1/1 [==============================] - 0s 115ms/step\n"
     ]
    }
   ],
   "source": [
    "pred_prob=model.predict(x)"
   ]
  },
  {
   "cell_type": "code",
   "execution_count": 68,
   "metadata": {},
   "outputs": [],
   "source": [
    "class_name=[\"daisy\",\"dandelion\",\"rose\",\"sunflower\",\"tulip\"]\n",
    "pred_id=pred_prob.argmax(axis=1)[0]"
   ]
  },
  {
   "cell_type": "code",
   "execution_count": 70,
   "metadata": {},
   "outputs": [
    {
     "name": "stdout",
     "output_type": "stream",
     "text": [
      "predicted flower : sunflower\n"
     ]
    }
   ],
   "source": [
    "print(\"predicted flower :\",str(class_name[pred_id]))"
   ]
  }
 ],
 "metadata": {
  "kernelspec": {
   "display_name": "Python 3",
   "language": "python",
   "name": "python3"
  },
  "language_info": {
   "codemirror_mode": {
    "name": "ipython",
    "version": 3
   },
   "file_extension": ".py",
   "mimetype": "text/x-python",
   "name": "python",
   "nbconvert_exporter": "python",
   "pygments_lexer": "ipython3",
   "version": "3.8.3"
  }
 },
 "nbformat": 4,
 "nbformat_minor": 4
}
