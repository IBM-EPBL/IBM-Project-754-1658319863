{
 "cells": [
  {
   "cell_type": "markdown",
   "id": "1643c2b3",
   "metadata": {},
   "source": [
    "# Assignment 3"
   ]
  },
  {
   "cell_type": "code",
   "execution_count": 22,
   "id": "a53dab20",
   "metadata": {},
   "outputs": [],
   "source": [
    "import splitfolders\n",
    "import numpy as np\n",
    "import tensorflow as tf "
   ]
  },
  {
   "cell_type": "markdown",
   "id": "54cbe5fa",
   "metadata": {},
   "source": [
    "Spliting dataset into training data, validation data, testing data"
   ]
  },
  {
   "cell_type": "code",
   "execution_count": 2,
   "id": "4d6c3c64",
   "metadata": {},
   "outputs": [
    {
     "name": "stderr",
     "output_type": "stream",
     "text": [
      "Copying files: 4317 files [00:15, 274.33 files/s]\n"
     ]
    }
   ],
   "source": [
    "splitfolders.ratio(\"flowers\", output=\"output\",seed=1337, ratio=(.8, .1, .1), group_prefix=None)"
   ]
  },
  {
   "cell_type": "markdown",
   "id": "9f6ac138",
   "metadata": {},
   "source": [
    "Image Augmentation "
   ]
  },
  {
   "cell_type": "code",
   "execution_count": 3,
   "id": "afb64b95",
   "metadata": {},
   "outputs": [],
   "source": [
    "import keras\n",
    "from tensorflow.keras.preprocessing.image import ImageDataGenerator"
   ]
  },
  {
   "cell_type": "code",
   "execution_count": 4,
   "id": "c3859458",
   "metadata": {},
   "outputs": [],
   "source": [
    "train_datagen=ImageDataGenerator(rescale=1./255,zoom_range=0.2,horizontal_flip=True,vertical_flip=False)"
   ]
  },
  {
   "cell_type": "code",
   "execution_count": 5,
   "id": "00b923b0",
   "metadata": {},
   "outputs": [],
   "source": [
    "test_datagen=ImageDataGenerator(rescale=1./255)"
   ]
  },
  {
   "cell_type": "code",
   "execution_count": 6,
   "id": "fc72604d",
   "metadata": {
    "scrolled": true
   },
   "outputs": [
    {
     "name": "stdout",
     "output_type": "stream",
     "text": [
      "Found 3452 images belonging to 5 classes.\n"
     ]
    }
   ],
   "source": [
    "gentrain=train_datagen.flow_from_directory(r\"C:\\Users\\meena kaveri\\Downloads\\Assignment IBM\\output\\train\",target_size=(64,64),class_mode=\"categorical\",batch_size=100)"
   ]
  },
  {
   "cell_type": "code",
   "execution_count": 7,
   "id": "f71fd10d",
   "metadata": {},
   "outputs": [
    {
     "name": "stdout",
     "output_type": "stream",
     "text": [
      "Found 430 images belonging to 5 classes.\n"
     ]
    }
   ],
   "source": [
    "gentest=test_datagen.flow_from_directory(r\"C:\\Users\\meena kaveri\\Downloads\\Assignment IBM\\output\\val\",target_size=(64,64),class_mode=\"categorical\",batch_size=100)"
   ]
  },
  {
   "cell_type": "code",
   "execution_count": 8,
   "id": "24469ad3",
   "metadata": {},
   "outputs": [
    {
     "name": "stdout",
     "output_type": "stream",
     "text": [
      "Found 435 images belonging to 5 classes.\n"
     ]
    }
   ],
   "source": [
    "genval=test_datagen.flow_from_directory(r\"C:\\Users\\meena kaveri\\Downloads\\Assignment IBM\\output\\test\",target_size=(64,64),class_mode=\"categorical\",batch_size=100)"
   ]
  },
  {
   "cell_type": "markdown",
   "id": "7a9059f8",
   "metadata": {},
   "source": [
    "Create model"
   ]
  },
  {
   "cell_type": "code",
   "execution_count": 9,
   "id": "b6d30a90",
   "metadata": {},
   "outputs": [],
   "source": [
    "from tensorflow.keras.models import Sequential  \n",
    "from tensorflow.keras.layers import Dense\n",
    "from tensorflow.keras.layers import Convolution2D\n",
    "from tensorflow.keras.layers import MaxPooling2D\n",
    "from tensorflow.keras.layers import Flatten"
   ]
  },
  {
   "cell_type": "code",
   "execution_count": 10,
   "id": "c738cda6",
   "metadata": {},
   "outputs": [],
   "source": [
    "model=Sequential()"
   ]
  },
  {
   "cell_type": "markdown",
   "id": "5758eb12",
   "metadata": {},
   "source": [
    "Adding layers"
   ]
  },
  {
   "cell_type": "code",
   "execution_count": 11,
   "id": "a9586b90",
   "metadata": {},
   "outputs": [],
   "source": [
    "model.add(Convolution2D(32,(3,3),activation=\"relu\",input_shape=(64,64,3)))\n",
    "model.add(MaxPooling2D(pool_size=(2,2)))\n",
    "model.add(Flatten())\n",
    "model.add(Dense(300,kernel_initializer=\"random_uniform\",activation=\"relu\"))\n",
    "model.add(Dense(5,kernel_initializer=\"random_uniform\",activation=\"softmax\"))"
   ]
  },
  {
   "cell_type": "markdown",
   "id": "49d80681",
   "metadata": {},
   "source": [
    "Compile model"
   ]
  },
  {
   "cell_type": "code",
   "execution_count": 12,
   "id": "3ac92c61",
   "metadata": {},
   "outputs": [],
   "source": [
    "model.compile(loss=\"categorical_crossentropy\",optimizer=\"adam\",metrics=[\"accuracy\"])"
   ]
  },
  {
   "cell_type": "markdown",
   "id": "4e0d2a62",
   "metadata": {},
   "source": [
    "Fit the model"
   ]
  },
  {
   "cell_type": "code",
   "execution_count": 13,
   "id": "2a8c363b",
   "metadata": {},
   "outputs": [
    {
     "name": "stderr",
     "output_type": "stream",
     "text": [
      "C:\\Users\\meena kaveri\\AppData\\Local\\Temp\\ipykernel_15964\\3029889992.py:1: UserWarning: `Model.fit_generator` is deprecated and will be removed in a future version. Please use `Model.fit`, which supports generators.\n",
      "  model.fit_generator(gentrain,steps_per_epoch=10,epochs=15,validation_data=gentest,validation_steps=10)\n"
     ]
    },
    {
     "name": "stdout",
     "output_type": "stream",
     "text": [
      "Epoch 1/15\n",
      "10/10 [==============================] - ETA: 0s - loss: 2.0841 - accuracy: 0.2520WARNING:tensorflow:Your input ran out of data; interrupting training. Make sure that your dataset or generator can generate at least `steps_per_epoch * epochs` batches (in this case, 10 batches). You may need to use the repeat() function when building your dataset.\n",
      "10/10 [==============================] - 13s 1s/step - loss: 2.0841 - accuracy: 0.2520 - val_loss: 1.5122 - val_accuracy: 0.2767\n",
      "Epoch 2/15\n",
      "10/10 [==============================] - 7s 665ms/step - loss: 1.4743 - accuracy: 0.3393\n",
      "Epoch 3/15\n",
      "10/10 [==============================] - 7s 736ms/step - loss: 1.2905 - accuracy: 0.4275\n",
      "Epoch 4/15\n",
      "10/10 [==============================] - 7s 668ms/step - loss: 1.2457 - accuracy: 0.4443\n",
      "Epoch 5/15\n",
      "10/10 [==============================] - 7s 643ms/step - loss: 1.2238 - accuracy: 0.4570\n",
      "Epoch 6/15\n",
      "10/10 [==============================] - 7s 699ms/step - loss: 1.1293 - accuracy: 0.5300\n",
      "Epoch 7/15\n",
      "10/10 [==============================] - 7s 715ms/step - loss: 1.1668 - accuracy: 0.5130\n",
      "Epoch 8/15\n",
      "10/10 [==============================] - 7s 671ms/step - loss: 1.1042 - accuracy: 0.5400\n",
      "Epoch 9/15\n",
      "10/10 [==============================] - 9s 876ms/step - loss: 1.0920 - accuracy: 0.5600\n",
      "Epoch 10/15\n",
      "10/10 [==============================] - 7s 692ms/step - loss: 1.0836 - accuracy: 0.5588\n",
      "Epoch 11/15\n",
      "10/10 [==============================] - 7s 696ms/step - loss: 1.0452 - accuracy: 0.5850\n",
      "Epoch 12/15\n",
      "10/10 [==============================] - 8s 769ms/step - loss: 1.0892 - accuracy: 0.5830\n",
      "Epoch 13/15\n",
      "10/10 [==============================] - 8s 809ms/step - loss: 1.0465 - accuracy: 0.5870\n",
      "Epoch 14/15\n",
      "10/10 [==============================] - 7s 680ms/step - loss: 1.0821 - accuracy: 0.5720\n",
      "Epoch 15/15\n",
      "10/10 [==============================] - 7s 683ms/step - loss: 1.0309 - accuracy: 0.6150\n"
     ]
    },
    {
     "data": {
      "text/plain": [
       "<keras.callbacks.History at 0x1793828bd90>"
      ]
     },
     "execution_count": 13,
     "metadata": {},
     "output_type": "execute_result"
    }
   ],
   "source": [
    "model.fit_generator(gentrain,steps_per_epoch=10,epochs=15,validation_data=gentest,validation_steps=10)"
   ]
  },
  {
   "cell_type": "markdown",
   "id": "aafc5876",
   "metadata": {},
   "source": [
    "Save the model"
   ]
  },
  {
   "cell_type": "code",
   "execution_count": 14,
   "id": "798c95db",
   "metadata": {},
   "outputs": [],
   "source": [
    "model.save(\"./flowers.h5\")"
   ]
  },
  {
   "cell_type": "markdown",
   "id": "9cc8e878",
   "metadata": {},
   "source": [
    "Test the model"
   ]
  },
  {
   "cell_type": "code",
   "execution_count": 15,
   "id": "fa8d934c",
   "metadata": {},
   "outputs": [],
   "source": [
    "from tensorflow.keras.preprocessing import image\n",
    "from tensorflow.keras.models import load_model\n",
    "import numpy as np"
   ]
  },
  {
   "cell_type": "code",
   "execution_count": 16,
   "id": "95dd245d",
   "metadata": {},
   "outputs": [],
   "source": [
    "img = image.load_img(\"tulip.jfif\",target_size=(64,64))"
   ]
  },
  {
   "cell_type": "code",
   "execution_count": 17,
   "id": "f81f8bdc",
   "metadata": {},
   "outputs": [],
   "source": [
    "x=image.img_to_array(img)"
   ]
  },
  {
   "cell_type": "code",
   "execution_count": 18,
   "id": "efc032e8",
   "metadata": {},
   "outputs": [
    {
     "data": {
      "text/plain": [
       "(64, 64, 3)"
      ]
     },
     "execution_count": 18,
     "metadata": {},
     "output_type": "execute_result"
    }
   ],
   "source": [
    "x.shape"
   ]
  },
  {
   "cell_type": "code",
   "execution_count": 19,
   "id": "79ef9420",
   "metadata": {},
   "outputs": [
    {
     "data": {
      "text/plain": [
       "(1, 64, 64, 3)"
      ]
     },
     "execution_count": 19,
     "metadata": {},
     "output_type": "execute_result"
    }
   ],
   "source": [
    "x=np.expand_dims(x,axis=0)\n",
    "x.shape"
   ]
  },
  {
   "cell_type": "code",
   "execution_count": 20,
   "id": "2679efc3",
   "metadata": {},
   "outputs": [
    {
     "name": "stdout",
     "output_type": "stream",
     "text": [
      "1/1 [==============================] - 1s 1s/step\n",
      "Rose\n"
     ]
    }
   ],
   "source": [
    "prediction=model.predict(x)\n",
    "class_name=[\"Daisy\",\"Dandelion\",\"Rose\",\"Sunflower\",\"Tulip\"]\n",
    "pred=prediction.argmax(axis=1)[0]\n",
    "print(str(class_name[pred]))"
   ]
  },
  {
   "cell_type": "code",
   "execution_count": 21,
   "id": "5b93ed77",
   "metadata": {},
   "outputs": [
    {
     "name": "stdout",
     "output_type": "stream",
     "text": [
      "5/5 [==============================] - 2s 344ms/step - loss: 1.0538 - accuracy: 0.5701\n"
     ]
    },
    {
     "data": {
      "text/plain": [
       "[1.0537958145141602, 0.5701149702072144]"
      ]
     },
     "execution_count": 21,
     "metadata": {},
     "output_type": "execute_result"
    }
   ],
   "source": [
    "model.evaluate(genval)"
   ]
  },
  {
   "cell_type": "code",
   "execution_count": null,
   "id": "18007426",
   "metadata": {},
   "outputs": [],
   "source": []
  },
  {
   "cell_type": "code",
   "execution_count": null,
   "id": "f619c3dd",
   "metadata": {},
   "outputs": [],
   "source": []
  }
 ],
 "metadata": {
  "kernelspec": {
   "display_name": "Python 3 (ipykernel)",
   "language": "python",
   "name": "python3"
  },
  "language_info": {
   "codemirror_mode": {
    "name": "ipython",
    "version": 3
   },
   "file_extension": ".py",
   "mimetype": "text/x-python",
   "name": "python",
   "nbconvert_exporter": "python",
   "pygments_lexer": "ipython3",
   "version": "3.9.12"
  }
 },
 "nbformat": 4,
 "nbformat_minor": 5
}
